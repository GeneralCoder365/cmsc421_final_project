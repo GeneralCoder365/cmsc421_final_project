{
 "cells": [
  {
   "cell_type": "code",
   "execution_count": 16,
   "metadata": {},
   "outputs": [],
   "source": [
    "import pandas as pd\n",
    "import matplotlib.pyplot as plt"
   ]
  },
  {
   "cell_type": "code",
   "execution_count": 11,
   "metadata": {},
   "outputs": [],
   "source": [
    "results = pd.read_csv(\"lstm_results3.csv\")"
   ]
  },
  {
   "cell_type": "markdown",
   "metadata": {},
   "source": [
    "### Total count for each decisions (0 (hold), 1 (buy), 2 (sell))"
   ]
  },
  {
   "cell_type": "code",
   "execution_count": 12,
   "metadata": {},
   "outputs": [
    {
     "name": "stdout",
     "output_type": "stream",
     "text": [
      "decision\n",
      "2    634341\n",
      "0    615787\n",
      "1    127472\n",
      "Name: count, dtype: int64\n"
     ]
    }
   ],
   "source": [
    "# calculate action counts\n",
    "print(results[\"decision\"].value_counts())"
   ]
  },
  {
   "cell_type": "markdown",
   "metadata": {},
   "source": [
    "### Number of correct decisions (is profit is positive)"
   ]
  },
  {
   "cell_type": "code",
   "execution_count": 13,
   "metadata": {},
   "outputs": [
    {
     "name": "stdout",
     "output_type": "stream",
     "text": [
      "Correct: 344302, Total: 761813, Precision: 0.45195080682529704\n"
     ]
    }
   ],
   "source": [
    "# calculate percent of correct decisions (Accuracy)\n",
    "correct = results[results[\"profit\"] > 0.0][\"profit\"].count()\n",
    "total = results[results[\"decision\"] == 1][\"profit\"].count() + results[results[\"decision\"] == 2][\"profit\"].count()\n",
    "print(\"Correct: \" + str(correct) + \", Total: \" + str(total) + \", Precision: \" + str(float(correct)/total))"
   ]
  },
  {
   "cell_type": "markdown",
   "metadata": {},
   "source": [
    "### Precision by Action"
   ]
  },
  {
   "cell_type": "code",
   "execution_count": 14,
   "metadata": {},
   "outputs": [
    {
     "name": "stdout",
     "output_type": "stream",
     "text": [
      "Total Correct Bought: 54666, Total Bought: 127472, Precision (Buy only): 0.4288471193673905\n",
      "Total Correct Sold: 289636, Total Sold: 634341, Precision (Sell only): 0.4565935356535365\n"
     ]
    }
   ],
   "source": [
    "# for buy action only\n",
    "buy = results[results[\"decision\"] == 1][\"decision\"].count()\n",
    "correct_buy = results[(results[\"decision\"] == 1) & (results[\"profit\"] > 0.0)][\"decision\"].count()\n",
    "print(\"Total Correct Bought: \" + str(correct_buy) + \", Total Bought: \" + str(buy) + \", Precision (Buy only): \" + str(float(correct_buy)/buy))\n",
    "\n",
    "# for sell action only\n",
    "sell = results[results[\"decision\"] == 2][\"decision\"].count()\n",
    "correct_sell = results[(results[\"decision\"] == 2) & (results[\"profit\"] > 0.0)][\"decision\"].count()\n",
    "print(\"Total Correct Sold: \" + str(correct_sell) + \", Total Sold: \" + str(sell) + \", Precision (Sell only): \" + str(float(correct_sell)/sell))\n"
   ]
  },
  {
   "cell_type": "markdown",
   "metadata": {},
   "source": [
    "### Plot total profit for each stock"
   ]
  },
  {
   "cell_type": "code",
   "execution_count": 34,
   "metadata": {},
   "outputs": [
    {
     "data": {
      "image/png": "[encoded data removed]",
      "text/plain": [
       "<Figure size 1200x600 with 1 Axes>"
      ]
     },
     "metadata": {},
     "output_type": "display_data"
    }
   ],
   "source": [
    "stock0 = results[results[\"stock\"] == 0][\"profit\"].sum()\n",
    "stock1 = results[results[\"stock\"] == 1][\"profit\"].sum()\n",
    "stock2 = results[results[\"stock\"] == 2][\"profit\"].sum()\n",
    "stock3 = results[results[\"stock\"] == 3][\"profit\"].sum()\n",
    "stock4 = results[results[\"stock\"] == 4][\"profit\"].sum()\n",
    "stock5 = results[results[\"stock\"] == 5][\"profit\"].sum()\n",
    "stock6 = results[results[\"stock\"] == 6][\"profit\"].sum()\n",
    "stock7 = results[results[\"stock\"] == 7][\"profit\"].sum()\n",
    "stock8 = results[results[\"stock\"] == 8][\"profit\"].sum()\n",
    "stock9 = results[results[\"stock\"] == 9][\"profit\"].sum()\n",
    "stock10 = results[results[\"stock\"] == 10][\"profit\"].sum()\n",
    "stock11 = results[results[\"stock\"] == 11][\"profit\"].sum()\n",
    "stock12 = results[results[\"stock\"] == 12][\"profit\"].sum()\n",
    "stock13 = results[results[\"stock\"] == 13][\"profit\"].sum()\n",
    "stock14 = results[results[\"stock\"] == 14][\"profit\"].sum()\n",
    "stock15 = results[results[\"stock\"] == 15][\"profit\"].sum()\n",
    "stock16 = results[results[\"stock\"] == 16][\"profit\"].sum()\n",
    "stock17 = results[results[\"stock\"] == 17][\"profit\"].sum()\n",
    "stock18 = results[results[\"stock\"] == 18][\"profit\"].sum()\n",
    "stock19 = results[results[\"stock\"] == 19][\"profit\"].sum()\n",
    "stock20 = results[results[\"stock\"] == 20][\"profit\"].sum()\n",
    "stock21 = results[results[\"stock\"] == 21][\"profit\"].sum()\n",
    "stock22 = results[results[\"stock\"] == 22][\"profit\"].sum()\n",
    "stock23 = results[results[\"stock\"] == 23][\"profit\"].sum()\n",
    "\n",
    "stocks = ['a', 'aapl', 'abc', 'abt', 'acn', 'adbe', 'adi', 'adm', 'adp', 'ads', 'adsk', 'aee', 'aep', 'aes', 'afl', 'agn', 'aig', 'aiv', 'amzn', 'jnj', 'jpm', 'ko', 'mmm', 'msft']\n",
    "values1 = [stock0, stock1, stock2, stock3, stock4, stock5, stock6, stock7, stock8, stock9, stock10, stock11, stock12, stock13, stock14, stock15, stock16, stock17, stock18, stock19, stock20, stock21, stock22, stock23]  # Heights for the first set of bars\n",
    "values2 = [12, 18, 22]  # Heights for the second set of bars\n",
    "\n",
    "# Positions for the bars\n",
    "x = range(len(stocks))\n",
    "\n",
    "# Plotting the bars\n",
    "plt.figure(figsize=(12, 6))\n",
    "plt.bar(x, values1, width=0.8)\n",
    "\n",
    "# Adding labels and title\n",
    "plt.xlabel('Stocks')\n",
    "plt.ylabel('Total Profit')\n",
    "plt.title('LSTM Agent Results')\n",
    "plt.xticks(x, stocks)\n",
    "\n",
    "# Show plot\n",
    "plt.show()"
   ]
  }
 ],
 "metadata": {
  "kernelspec": {
   "display_name": "Python 3",
   "language": "python",
   "name": "python3"
  },
  "language_info": {
   "codemirror_mode": {
    "name": "ipython",
    "version": 3
   },
   "file_extension": ".py",
   "mimetype": "text/x-python",
   "name": "python",
   "nbconvert_exporter": "python",
   "pygments_lexer": "ipython3",
   "version": "3.12.2"
  }
 },
 "nbformat": 4,
 "nbformat_minor": 2
}
